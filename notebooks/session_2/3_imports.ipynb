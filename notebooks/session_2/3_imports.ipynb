{
 "cells": [
  {
   "cell_type": "markdown",
   "metadata": {},
   "source": [
    "# Worksheet 3 - Imports"
   ]
  },
  {
   "cell_type": "markdown",
   "metadata": {},
   "source": [
    "- This worksheet should be used in conjunction with the Intro to Python course notes [here](https://uniexeterrse.github.io/intro-to-python/). \n",
    "- All information contained in this worksheet can be found in the course notes. \n",
    "- This worksheet highlights tasks that can be completed during the sessions. "
   ]
  },
  {
   "cell_type": "markdown",
   "metadata": {},
   "source": [
    "## 1. The Python Standard Library\n",
    "\n",
    "So far, we have only used a tiny portion of the Python Standard Library. This is a collection of modules that are installed when you install Python. However, the Standard Library contains many more modules that will be of use to us. Lets jump right in."
   ]
  },
  {
   "cell_type": "code",
   "execution_count": 1,
   "metadata": {},
   "outputs": [],
   "source": [
    "import math"
   ]
  },
  {
   "cell_type": "code",
   "execution_count": 2,
   "metadata": {},
   "outputs": [
    {
     "ename": "ModuleNotFoundError",
     "evalue": "No module named 'thisisanincorrectmodulename'",
     "output_type": "error",
     "traceback": [
      "\u001b[0;31m---------------------------------------------------------------------------\u001b[0m",
      "\u001b[0;31mModuleNotFoundError\u001b[0m                       Traceback (most recent call last)",
      "Cell \u001b[0;32mIn [2], line 1\u001b[0m\n\u001b[0;32m----> 1\u001b[0m \u001b[39mimport\u001b[39;00m \u001b[39mthisisanincorrectmodulename\u001b[39;00m\n",
      "\u001b[0;31mModuleNotFoundError\u001b[0m: No module named 'thisisanincorrectmodulename'"
     ]
    }
   ],
   "source": [
    "import thisisanincorrectmodulename"
   ]
  },
  {
   "cell_type": "markdown",
   "metadata": {},
   "source": [
    "We can use a module like this. Use tab to show autocomplete."
   ]
  },
  {
   "cell_type": "code",
   "execution_count": 3,
   "metadata": {},
   "outputs": [
    {
     "data": {
      "text/plain": [
       "0.7071067811865476"
      ]
     },
     "execution_count": 3,
     "metadata": {},
     "output_type": "execute_result"
    }
   ],
   "source": [
    "math.cos(math.pi / 4)"
   ]
  },
  {
   "cell_type": "code",
   "execution_count": 5,
   "metadata": {},
   "outputs": [
    {
     "name": "stdout",
     "output_type": "stream",
     "text": [
      "Help on built-in function cos in module math:\n",
      "\n",
      "cos(x, /)\n",
      "    Return the cosine of x (measured in radians).\n",
      "\n"
     ]
    }
   ],
   "source": [
    "help(math.cos)"
   ]
  },
  {
   "cell_type": "markdown",
   "metadata": {},
   "source": [
    "## 2. Exercise: Generate random numbers\n",
    "\n",
    "Write a function that returns a list of n random integers between 0 and 100. n should be a function parameter, and you should use the standard library module `random`. The `random` documentation can be found [here](https://docs.python.org/3/library/random.html)."
   ]
  },
  {
   "cell_type": "code",
   "execution_count": null,
   "metadata": {},
   "outputs": [],
   "source": [
    "# Answer here"
   ]
  },
  {
   "cell_type": "markdown",
   "metadata": {},
   "source": [
    "## 3. External Python libraries\n",
    "\n",
    "There are some very common libraries that you will come across very soon into your Python journey. Some of these have been listed below:\n",
    "\n",
    "* NumPy: Used for array computation, GPU processing, and generally running things really, really fast.\n",
    "* SciPy: Contains many more complex algorithms, for optimisation, geometry, algebra, statistics, and much more.\n",
    "* Pandas: Table-like data structures, and vectorised table operations. Think Excel for millions of rows.\n",
    "* Matplotlib: Plotting library for Python.\n",
    "\n",
    "We will use the following syntax for each of these libraries when importing them. This is unfortunately just convention!\n",
    "\n",
    "* `import numpy as np`. Access functions using `np.XXX`.\n",
    "* `import scipy`. Access functions using `scipy.XXX`.\n",
    "* `import pandas as pd`. Access functions as `pd.XXX`.\n",
    "* `import matplotlib.pyplot as plt`. Access functions as `plt.XXX`."
   ]
  },
  {
   "cell_type": "markdown",
   "metadata": {},
   "source": [
    "For example, lets check if we have `numpy` available to us. If we have installed Python correctly through Anaconda, this should work correctly. Bear with us if this is not the case."
   ]
  },
  {
   "cell_type": "code",
   "execution_count": 6,
   "metadata": {},
   "outputs": [],
   "source": [
    "import numpy as np"
   ]
  },
  {
   "cell_type": "code",
   "execution_count": 10,
   "metadata": {},
   "outputs": [
    {
     "name": "stdout",
     "output_type": "stream",
     "text": [
      "[1 2 3 4 5 6]\n",
      "[10 20 30 40 50 60]\n"
     ]
    }
   ],
   "source": [
    "a = np.array([1, 2, 3, 4, 5, 6])\n",
    "\n",
    "print(a)\n",
    "print(a * 10)"
   ]
  },
  {
   "cell_type": "markdown",
   "metadata": {},
   "source": [
    "We also should check whether we have `matplotlib` available to us:"
   ]
  },
  {
   "cell_type": "code",
   "execution_count": 11,
   "metadata": {},
   "outputs": [],
   "source": [
    "import matplotlib.pyplot as plt"
   ]
  },
  {
   "cell_type": "markdown",
   "metadata": {},
   "source": [
    "If either of these received an error, then your Anaconda installation is not performing as expected. We will need to install these packages manually for the later parts of the session."
   ]
  },
  {
   "cell_type": "markdown",
   "metadata": {},
   "source": [
    "## 4. Installing packages manually\n",
    "\n",
    "We have asked you to install Anaconda because it contains many packages commonly used for data science and visualisation, including those above. If you have problems importing these (receive error messages when trying to import them), we will do our best to help you out here. However, this troubleshooting will involve reading error messages: please be patient with us!\n",
    "\n",
    "If you want to install these packages manually, we can use various installers.\n",
    "\n",
    "The most common is `pip`. For example, to install `numpy` using `pip`, we type in the shell/terminal/command prompt:"
   ]
  },
  {
   "cell_type": "code",
   "execution_count": null,
   "metadata": {
    "vscode": {
     "languageId": "shellscript"
    }
   },
   "outputs": [],
   "source": [
    "pip install numpy"
   ]
  },
  {
   "cell_type": "markdown",
   "metadata": {},
   "source": [
    "If we have installed Anaconda, this contains an installer as well. We can use the following. Note that `numpy` is included with `conda`."
   ]
  },
  {
   "cell_type": "code",
   "execution_count": null,
   "metadata": {
    "vscode": {
     "languageId": "shellscript"
    }
   },
   "outputs": [],
   "source": [
    "conda install numpy"
   ]
  },
  {
   "cell_type": "markdown",
   "metadata": {},
   "source": [
    "## 5. Virtual environments\n",
    "\n",
    "**Note**: This is an intermediate/advanced topic, and something that proficient Python developers struggle with.\n",
    "\n",
    "By default, the shell commands above will install packages into the base Python environment on your machine. In the future (beyond the scope of Intro to Python), we will try to create a “clean room” for each project that we create where we can install things that we need. This clean room is called a virtual environment. This helps us to minimise conflicts between different packages, and keep in control of things like our Python and package versions.\n",
    "\n",
    "Virtual environment management in Python could easily take two sessions to go through, and takes a while to get the hang of. At this stage, you should be aware that:\n",
    "\n",
    "* Virtual environments exist, and should be used per project, to keep project dependencies separate.\n",
    "* They allow you to keep your base Python environment clean.\n",
    "* They can be managed with tools such as Anaconda, Poetry, Virtualenv, Pipenv, and others.\n",
    "* For more information, please start [here](https://docs.python.org/3/tutorial/venv.html)."
   ]
  },
  {
   "cell_type": "markdown",
   "metadata": {},
   "source": []
  }
 ],
 "metadata": {
  "kernelspec": {
   "display_name": ".venv",
   "language": "python",
   "name": "python3"
  },
  "language_info": {
   "codemirror_mode": {
    "name": "ipython",
    "version": 3
   },
   "file_extension": ".py",
   "mimetype": "text/x-python",
   "name": "python",
   "nbconvert_exporter": "python",
   "pygments_lexer": "ipython3",
   "version": "3.10.8"
  },
  "orig_nbformat": 4,
  "vscode": {
   "interpreter": {
    "hash": "f22cf9664535da7d8fd93bfd331893b7df7ff6be902afd074a4bac5311b5643c"
   }
  }
 },
 "nbformat": 4,
 "nbformat_minor": 2
}
