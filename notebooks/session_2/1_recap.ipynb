{
 "cells": [
  {
   "cell_type": "markdown",
   "metadata": {},
   "source": [
    "# Worksheet 1 - Recap"
   ]
  },
  {
   "cell_type": "markdown",
   "metadata": {},
   "source": [
    "- This worksheet should be used in conjunction with the Intro to Python course notes [here](https://uniexeterrse.github.io/intro-to-python/). \n",
    "- All information contained in this worksheet can be found in the course notes. \n",
    "- This worksheet highlights tasks that can be completed during the sessions. "
   ]
  },
  {
   "cell_type": "markdown",
   "metadata": {},
   "source": [
    "## 1. Recap of fundamentals\n",
    "\n",
    "We can instantiate variables, assign data values to them, and create data structures. \n",
    "\n",
    "Lets create some data for the greatest car in the world, the Citroen Berlingo Mk1."
   ]
  },
  {
   "cell_type": "markdown",
   "metadata": {},
   "source": [
    "<div>\n",
    "<img src=\"notebook_figs/berlingo.jpg\" width=\"500\"/>\n",
    "</div>"
   ]
  },
  {
   "cell_type": "code",
   "execution_count": 35,
   "metadata": {},
   "outputs": [
    {
     "name": "stdout",
     "output_type": "stream",
     "text": [
      "My Citroen Berlingo is 95% cool.\n"
     ]
    }
   ],
   "source": [
    "make = \"Citroen\"\n",
    "model = \"Berlingo\"\n",
    "color = \"blue\"\n",
    "owner = \"Simon\"\n",
    "sliding_doors = 2\n",
    "other_doors = 3\n",
    "coolness_pc = 95\n",
    "print(f\"My {make} {model} is {coolness_pc}% cool.\")"
   ]
  },
  {
   "cell_type": "code",
   "execution_count": 36,
   "metadata": {},
   "outputs": [
    {
     "name": "stdout",
     "output_type": "stream",
     "text": [
      "<class 'str'>\n"
     ]
    }
   ],
   "source": [
    "print(type(owner))"
   ]
  },
  {
   "cell_type": "code",
   "execution_count": 37,
   "metadata": {},
   "outputs": [
    {
     "ename": "NameError",
     "evalue": "name 'new_car_make' is not defined",
     "output_type": "error",
     "traceback": [
      "\u001b[0;31m---------------------------------------------------------------------------\u001b[0m",
      "\u001b[0;31mNameError\u001b[0m                                 Traceback (most recent call last)",
      "Cell \u001b[0;32mIn [37], line 2\u001b[0m\n\u001b[1;32m      1\u001b[0m \u001b[39m# new_car_make = \"Mercedes\"\u001b[39;00m\n\u001b[0;32m----> 2\u001b[0m \u001b[39mprint\u001b[39m(new_car_make)\n",
      "\u001b[0;31mNameError\u001b[0m: name 'new_car_make' is not defined"
     ]
    }
   ],
   "source": [
    "# new_car_make = \"Mercedes\"\n",
    "print(new_car_make)"
   ]
  },
  {
   "cell_type": "code",
   "execution_count": 38,
   "metadata": {},
   "outputs": [
    {
     "name": "stdout",
     "output_type": "stream",
     "text": [
      "['Citroen', 'Berlingo', 'blue', 2, 3]\n"
     ]
    }
   ],
   "source": [
    "car_info = [make, model, color, sliding_doors, other_doors]\n",
    "print(car_info)"
   ]
  },
  {
   "cell_type": "code",
   "execution_count": 39,
   "metadata": {},
   "outputs": [
    {
     "name": "stdout",
     "output_type": "stream",
     "text": [
      "<class 'list'>\n"
     ]
    }
   ],
   "source": [
    "print(type(car_info))"
   ]
  },
  {
   "cell_type": "code",
   "execution_count": 40,
   "metadata": {},
   "outputs": [
    {
     "name": "stdout",
     "output_type": "stream",
     "text": [
      "Berlingo\n"
     ]
    }
   ],
   "source": [
    "element_2 = car_info[1]\n",
    "print(element_2)"
   ]
  },
  {
   "cell_type": "code",
   "execution_count": 41,
   "metadata": {},
   "outputs": [
    {
     "name": "stdout",
     "output_type": "stream",
     "text": [
      "<class 'str'>\n"
     ]
    }
   ],
   "source": [
    "print(type(element_2))"
   ]
  },
  {
   "cell_type": "code",
   "execution_count": 42,
   "metadata": {},
   "outputs": [
    {
     "name": "stdout",
     "output_type": "stream",
     "text": [
      "['Citroen', 'Berlingo', 'blue', 2, 3, 2000]\n"
     ]
    }
   ],
   "source": [
    "cost = 2000\n",
    "car_info.append(cost)\n",
    "print(car_info)"
   ]
  },
  {
   "cell_type": "code",
   "execution_count": 43,
   "metadata": {},
   "outputs": [
    {
     "name": "stdout",
     "output_type": "stream",
     "text": [
      "['Citroen', 'Berlingo', 'blue', 2, 3, 1850]\n"
     ]
    }
   ],
   "source": [
    "new_cost = 1850\n",
    "car_info[-1] = new_cost\n",
    "print(car_info)"
   ]
  },
  {
   "cell_type": "code",
   "execution_count": 44,
   "metadata": {},
   "outputs": [
    {
     "name": "stdout",
     "output_type": "stream",
     "text": [
      "0 Citroen\n",
      "1 Berlingo\n",
      "2 blue\n",
      "3 2\n",
      "4 3\n",
      "5 1850\n"
     ]
    }
   ],
   "source": [
    "for index, value in enumerate(car_info):\n",
    "    print(index, value)"
   ]
  },
  {
   "cell_type": "code",
   "execution_count": 45,
   "metadata": {},
   "outputs": [
    {
     "name": "stdout",
     "output_type": "stream",
     "text": [
      "{'make': 'Citroen', 'model': 'Berlingo', 'color': 'blue', 'owner': 'Simon', 'sliding_doors': 2, 'other_doors': 3, 'coolness_pc': 95}\n"
     ]
    }
   ],
   "source": [
    "car_dict = {\n",
    "    \"make\": \"Citroen\", \n",
    "    \"model\": \"Berlingo\", \n",
    "    \"color\": \"blue\", \n",
    "    \"owner\": \"Simon\", \n",
    "    \"sliding_doors\": 2, \n",
    "    \"other_doors\": 3, \n",
    "    \"coolness_pc\": 95\n",
    "}\n",
    "print(car_dict)"
   ]
  },
  {
   "cell_type": "code",
   "execution_count": 46,
   "metadata": {},
   "outputs": [
    {
     "name": "stdout",
     "output_type": "stream",
     "text": [
      "<class 'dict'>\n"
     ]
    }
   ],
   "source": [
    "print(type(car_dict))"
   ]
  },
  {
   "cell_type": "code",
   "execution_count": 47,
   "metadata": {},
   "outputs": [
    {
     "name": "stdout",
     "output_type": "stream",
     "text": [
      "make Citroen\n",
      "model Berlingo\n",
      "color blue\n",
      "owner Simon\n",
      "sliding_doors 2\n",
      "other_doors 3\n",
      "coolness_pc 95\n"
     ]
    }
   ],
   "source": [
    "for key, value in car_dict.items():\n",
    "    print(key, value)"
   ]
  },
  {
   "cell_type": "code",
   "execution_count": 48,
   "metadata": {},
   "outputs": [
    {
     "name": "stdout",
     "output_type": "stream",
     "text": [
      "95\n"
     ]
    }
   ],
   "source": [
    "print(car_dict[\"coolness_pc\"])"
   ]
  },
  {
   "cell_type": "code",
   "execution_count": 49,
   "metadata": {},
   "outputs": [
    {
     "name": "stdout",
     "output_type": "stream",
     "text": [
      "{'make': 'Citroen', 'model': 'Berlingo', 'color': 'blue', 'owner': 'Simon', 'sliding_doors': 2, 'other_doors': 3, 'coolness_pc': 95, 'current_price': 1850}\n"
     ]
    }
   ],
   "source": [
    "current_price = 1850\n",
    "car_dict[\"current_price\"] = current_price\n",
    "print(car_dict)"
   ]
  },
  {
   "cell_type": "code",
   "execution_count": 50,
   "metadata": {},
   "outputs": [
    {
     "data": {
      "text/plain": [
       "1850"
      ]
     },
     "execution_count": 50,
     "metadata": {},
     "output_type": "execute_result"
    }
   ],
   "source": [
    "car_dict[\"current_price\"]"
   ]
  },
  {
   "cell_type": "code",
   "execution_count": 52,
   "metadata": {},
   "outputs": [
    {
     "name": "stdout",
     "output_type": "stream",
     "text": [
      "['make', 'model', 'color', 'owner', 'sliding_doors', 'other_doors', 'coolness_pc', 'current_price']\n"
     ]
    }
   ],
   "source": [
    "car_fields = list(car_dict.keys())\n",
    "print(car_fields)"
   ]
  },
  {
   "cell_type": "markdown",
   "metadata": {},
   "source": [
    "## 2. Recap of control flow"
   ]
  },
  {
   "cell_type": "markdown",
   "metadata": {},
   "source": [
    "We can use `if`, `elif` and `else` statements to perform different tasks, based on data values. \n",
    "\n",
    "For example, imagine we are a dealership trying to sell our Berlingo, whos info is stored in `car_dict`. Lets say that we will indicate on our inventory system when a buyer has offered more than 90% of the asking price of a car. We will update the boolean flag when we should sell it."
   ]
  },
  {
   "cell_type": "code",
   "execution_count": 54,
   "metadata": {},
   "outputs": [
    {
     "name": "stdout",
     "output_type": "stream",
     "text": [
      "You're taking the mick matey!\n"
     ]
    }
   ],
   "source": [
    "sell_flag = False\n",
    "asking_price = 1500\n",
    "\n",
    "current_price = car_dict[\"current_price\"]\n",
    "\n",
    "if asking_price >= current_price * 0.9:\n",
    "    sell_flag = True\n",
    "    print(\"You got yourself a deal!\")\n",
    "else:\n",
    "    print(\"You're taking the mick matey!\")"
   ]
  },
  {
   "cell_type": "markdown",
   "metadata": {},
   "source": [
    "Lets say a buyer wants a car that is a Berlingo, but also has a car to trade in. As a dealer, we are willing to take the buyers trade-in car and a lower asking price for the Berlingo if the car is in our desired car list. We can update our system accordingly, using the `and` and `in` operators."
   ]
  },
  {
   "cell_type": "code",
   "execution_count": 57,
   "metadata": {},
   "outputs": [
    {
     "name": "stdout",
     "output_type": "stream",
     "text": [
      "Great to do business with you!\n"
     ]
    }
   ],
   "source": [
    "sell_flag = False\n",
    "desired_cars = [\"Audi\", \"Mercedes\", \"Aston Martin\"]\n",
    "\n",
    "asking_price = 556\n",
    "trade_in_car = \"Audi\"\n",
    "\n",
    "current_price = car_dict[\"current_price\"]\n",
    "\n",
    "if asking_price >= current_price * 0.9:\n",
    "    sell_flag = True\n",
    "    print(\"I'm happy with that.\")\n",
    "elif (trade_in_car in desired_cars) and (asking_price >= current_price * 0.3):\n",
    "    sell_flag = True\n",
    "    print(\"Great to do business with you!\")\n",
    "else:\n",
    "    print(\"Sorry mate thats the best I can do.\")"
   ]
  },
  {
   "cell_type": "markdown",
   "metadata": {},
   "source": [
    "The buyer walks away with the sacred Berlingo, and we get an Audi and 556 money.  "
   ]
  },
  {
   "cell_type": "markdown",
   "metadata": {},
   "source": [
    "## 3. Recap of Loops"
   ]
  },
  {
   "cell_type": "markdown",
   "metadata": {},
   "source": [
    "We've thrown a few in already. Objects with a length are iterables, and can be looped over."
   ]
  },
  {
   "cell_type": "code",
   "execution_count": 59,
   "metadata": {},
   "outputs": [
    {
     "name": "stdout",
     "output_type": "stream",
     "text": [
      "Citroen\n",
      "Berlingo\n",
      "blue\n",
      "Simon\n",
      "2\n",
      "3\n",
      "95\n",
      "1850\n"
     ]
    }
   ],
   "source": [
    "for value in car_dict.values():\n",
    "    print(value)"
   ]
  },
  {
   "cell_type": "code",
   "execution_count": 61,
   "metadata": {},
   "outputs": [
    {
     "name": "stdout",
     "output_type": "stream",
     "text": [
      "CitroenCitroenCitroenCitroenCitroenCitroenCitroenCitroenCitroenCitroen\n",
      "BerlingoBerlingoBerlingoBerlingoBerlingoBerlingoBerlingoBerlingoBerlingoBerlingo\n",
      "blueblueblueblueblueblueblueblueblueblue\n",
      "SimonSimonSimonSimonSimonSimonSimonSimonSimonSimon\n",
      "20\n",
      "30\n",
      "950\n",
      "18500\n"
     ]
    }
   ],
   "source": [
    "for value in car_dict.values():\n",
    "    new_value = value * 10\n",
    "    print(new_value)"
   ]
  },
  {
   "cell_type": "markdown",
   "metadata": {},
   "source": [
    "## 4. Exercise - FizzBuzz\n",
    "\n",
    "This is a famous (and now overused) programming task used in interviews.\n",
    "\n",
    "“Write a program that prints the numbers from 1 to 50. But for multiples of three print “Fizz” instead of the number and for the multiples of five print “Buzz”. For numbers which are multiples of both three and five print “FizzBuzz”.”\n",
    "\n",
    "Give it a go!"
   ]
  },
  {
   "cell_type": "markdown",
   "metadata": {},
   "source": []
  },
  {
   "cell_type": "markdown",
   "metadata": {},
   "source": []
  }
 ],
 "metadata": {
  "kernelspec": {
   "display_name": ".venv",
   "language": "python",
   "name": "python3"
  },
  "language_info": {
   "codemirror_mode": {
    "name": "ipython",
    "version": 3
   },
   "file_extension": ".py",
   "mimetype": "text/x-python",
   "name": "python",
   "nbconvert_exporter": "python",
   "pygments_lexer": "ipython3",
   "version": "3.10.8"
  },
  "orig_nbformat": 4,
  "vscode": {
   "interpreter": {
    "hash": "f22cf9664535da7d8fd93bfd331893b7df7ff6be902afd074a4bac5311b5643c"
   }
  }
 },
 "nbformat": 4,
 "nbformat_minor": 2
}
